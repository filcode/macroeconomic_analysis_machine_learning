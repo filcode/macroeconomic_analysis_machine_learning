{
 "cells": [
  {
   "cell_type": "markdown",
   "id": "9b307b13",
   "metadata": {},
   "source": [
    "## Predicting Macroeconomic Indices for 2023: A Deep Learning Approach with RNNs"
   ]
  },
  {
   "cell_type": "markdown",
   "id": "57ce3e13",
   "metadata": {},
   "source": [
    "**Explanation:**\n",
    "\n",
    "below, the methods used to forecast some key macroeconomic indices, such as Inflation and GDP, for the year 2023 will be explained. The source data come from Eurostat, an authoritative source that provides up-to-date data on multiple areas.\n",
    "\n",
    "For forecasting, we adopted the approach of Recurrent Neural Networks (RNN), a specialization in the field of deep learning suitable for temporal data sequences. In our case, data from 2017 to 2022 were used as a reference to make forecasts for the year 2023.\n",
    "\n",
    "The size of the dataset is a key element in the choice of model architecture. While RNN was adequate for the dataset that was used, which wasn't extensive, variants such as LSTM or GRU (Gated Recurrent Units) could be considered for larger datasets or more detailed time intervals.\n",
    "\n",
    "In the hyperparameter optimization phase of the model, I chose to use the Optuna framework, designed specifically to explore and identify the best combinations of parameters. Finally, for those working with more detailed datasets, such as quarterly or semiannual data, an advanced option might be to group countries with similar economic profiles using clustering techniques, such as KNN or Hierarchical clustering.\n",
    "\n",
    "**Steps made:**\n",
    "1. Standardization process\n",
    "2. Optuna search best params\n",
    "3. Use best params to create model (also adjusting for some params tested)\n",
    "4. Predictions for 2023\n",
    "\n",
    "**Some consideration:**\n",
    "\n",
    "given the nature of the small dataset, I chose to take a multivariate approach by integrating the time series, even though this presents specific challenges. Complex deep learning models, in the presence of limited datasets, run the risk of overfitting, compromising generalization. However, by taking appropriate measures such as regularization, cross-validation and careful optimization of hyperparameters, such challenges can be overcome while achieving satisfactory results. Therefore, depending on the objectives, it is up to the user to experiment with Machine Learning or Deep Learning models and select the one deemed most suitable.\n",
    "\n",
    "**Note**\n",
    "* This notebook is designed to showcase my personal approach and is not intended as formal guidance or advice.\n",
    "* For clarity, certain sections of the code (like data extraction, analysis, and preparation) have been omitted to emphasize the core aspects of this notebook. If you're interested on see all parts, visit my GitHub repository --> https://github.com/filcode/corporate_prediction_deep_learning. (if're not already there :) )"
   ]
  },
  {
   "cell_type": "code",
   "execution_count": null,
   "id": "8a13a9e7",
   "metadata": {},
   "outputs": [],
   "source": []
  },
  {
   "cell_type": "code",
   "execution_count": null,
   "id": "988701fe",
   "metadata": {},
   "outputs": [],
   "source": []
  },
  {
   "cell_type": "markdown",
   "id": "3a2a9c31",
   "metadata": {},
   "source": [
    "### <u>About Data</u>\n",
    "\n",
    "**Time Span:**\n",
    "\n",
    "2017 to 2022\n",
    "   \n",
    "**Geographical Coverage:**\n",
    "\n",
    "- European Union (EU)\n",
    "- Eastern European Union (EEU)\n",
    "\n",
    "**Variables Included (name assigned, Eurostat code and description):**\n",
    "\n",
    "***1. Demographic***\n",
    "\n",
    "- **'PopDens'** (TPS00003): Population Density (Persons per square kilometre)\n",
    "\n",
    "***2. Macroeconomic***\n",
    "\n",
    "- **'RealGDPGRChg(%)'** (TEC00115): Yearly Change in Real GDP Growth Rate\n",
    "- **'GrDebtToGDP(%)'** (SDG_17_40): Gross Debt as Percentage of GDP\n",
    "- **'GovExpToGDP(%)'** (TEC00023): Government Expenditure as Percentage of GDP\n",
    "- **'IntTdGoods'** (TET00002): Net Trade of Goods (excluding EFTA countries)\n",
    "\n",
    "***3. Population & Labor***\n",
    "\n",
    "- **'EmpDomCon'** (TEC00112): Number of People Employed in the Country\n",
    "- **'DepOnWorkP(%)'** (DEMO_PJANIND__custom_6776614): Dependency on Working Population\n",
    "- **'EduLev3(5-8)(%)'** (EDAT_LFSE_03__custom_6767752): Percentage of Population with Tertiary Education (levels 5-8)\n",
    "- **'InduCostChg(%)'** (LC_LCI_R2_A__custom_6999771): Yearly Change in Labor Industry Cost\n",
    "- **'HICPChg(%)'** (PRC_HICP_AIND__custom_7000055): Harmonized Index of Consumer Prices (Please verify the selected basket of goods)"
   ]
  },
  {
   "cell_type": "markdown",
   "id": "532b4208",
   "metadata": {},
   "source": [
    "### <u>Set Up environment</u>"
   ]
  },
  {
   "cell_type": "code",
   "execution_count": 1,
   "id": "a2b75fa1",
   "metadata": {},
   "outputs": [],
   "source": [
    "import numpy as np\n",
    "import pandas as pd\n",
    "import requests\n",
    "import seaborn as sns\n",
    "import matplotlib.pyplot as plt\n",
    "from scipy import stats\n",
    "from scipy import optimize\n",
    "import statsmodels.api as sm\n",
    "import statsmodels.formula.api as smf\n",
    "from sklearn.metrics import mean_squared_error, mean_absolute_error\n",
    "\n",
    "\n",
    "from tensorflow.keras import datasets, layers, models\n",
    "from tensorflow import keras\n",
    "\n",
    "from sklearn import datasets\n",
    "from sklearn.preprocessing import scale\n",
    "from sklearn.model_selection import train_test_split\n",
    "from sklearn.datasets import make_moons"
   ]
  },
  {
   "cell_type": "code",
   "execution_count": 2,
   "id": "bf1e60bf",
   "metadata": {},
   "outputs": [],
   "source": [
    "# VISUALIZE TABLE: ',None'\n",
    "# VISUALIZE JUST SUBSET: remove ',None'\n",
    "pd.set_option('display.max_rows', None)\n",
    "pd.set_option('display.max_columns', None)"
   ]
  },
  {
   "cell_type": "markdown",
   "id": "224b541b",
   "metadata": {},
   "source": [
    "## Data"
   ]
  },
  {
   "cell_type": "markdown",
   "id": "1684bb2e",
   "metadata": {},
   "source": [
    "***Running code below you can connect to dataset and print (also save***"
   ]
  },
  {
   "cell_type": "code",
   "execution_count": 3,
   "id": "ebfaf481",
   "metadata": {},
   "outputs": [],
   "source": [
    "def read_gdrive_to_df(file_id):\n",
    "    \"\"\"\n",
    "    Read an Excel file from Google Drive using its file ID and return a DataFrame.\n",
    "    \"\"\"\n",
    "    base_url = f'https://drive.google.com/file/d/{file_id}/view?usp=sharing'\n",
    "    download_url = 'https://drive.google.com/uc?id=' + base_url.split('/')[-2]\n",
    "    return pd.read_excel(download_url, index_col=0)\n",
    "\n",
    "# Dataset\n",
    "df_all_replaced_link = '104-UdrHarSqFCWlDxpewvWT0XmiaBMPu'\n",
    "# df_normalize_link = '1hFZkvm_r3arVSv-VyUzCOStub9KLupHk'\n",
    "# df_mean_distance_link = '10iqaD8LEWDXpb1qKfHNNvNdVvODkW1Ap'\n",
    "\n",
    "# Countries group custom\n",
    "group1_link = '1SeBohyPghZlnyAA4m0i-jNUpsVF1IH8V'\n",
    "group2_link = '1CjfgPobiWVD4I8oA8dTVLFjOpDsNbJ2J'\n",
    "group3_link = '1et8qCxbgSucKb7zYkb698izsPpM2Reoa'\n",
    "\n",
    "# Read files using the function\n",
    "df_all_replaced = read_gdrive_to_df(df_all_replaced_link) # original data with no nan\n",
    "# df_normalize = read_gdrive_to_df(df_normalize_link) # normalized data (all changed by previous year difference)\n",
    "# df_mean_distance = read_gdrive_to_df(df_mean_distance_link) # mean distance from year for each country\n",
    "   \n",
    "# # Read files using the function\n",
    "group1 = read_gdrive_to_df(group1_link) \n",
    "group2 = read_gdrive_to_df(group2_link) \n",
    "group3 = read_gdrive_to_df(group3_link) "
   ]
  },
  {
   "cell_type": "code",
   "execution_count": 4,
   "id": "47c4a3c5",
   "metadata": {
    "scrolled": true
   },
   "outputs": [
    {
     "data": {
      "text/plain": [
       "300"
      ]
     },
     "execution_count": 4,
     "metadata": {},
     "output_type": "execute_result"
    }
   ],
   "source": [
    "len(df_all_replaced)"
   ]
  },
  {
   "cell_type": "markdown",
   "id": "33c86490",
   "metadata": {},
   "source": [
    "### Converting specific columns to categorical"
   ]
  },
  {
   "cell_type": "code",
   "execution_count": 5,
   "id": "33aaacc1",
   "metadata": {},
   "outputs": [],
   "source": [
    "columns_to_convert = ['geo', 'country', 'year']\n",
    "\n",
    "for col in columns_to_convert:\n",
    "    if col in df_all_replaced.columns:\n",
    "        df_all_replaced[col] = df_all_replaced[col].astype('category')\n",
    "        \n",
    "data = df_all_replaced.copy()"
   ]
  },
  {
   "cell_type": "markdown",
   "id": "ddd9e1ba",
   "metadata": {},
   "source": [
    "**Mapping**"
   ]
  },
  {
   "cell_type": "code",
   "execution_count": 6,
   "id": "de04583c",
   "metadata": {},
   "outputs": [],
   "source": [
    "df_knn = df_all_replaced"
   ]
  },
  {
   "cell_type": "markdown",
   "id": "11897756",
   "metadata": {},
   "source": [
    "# LSTM Model\n",
    "\n",
    "predictions made by:\n",
    "- by europe as a whole\n",
    "- by clusters (group of countries with similarities)"
   ]
  },
  {
   "cell_type": "markdown",
   "id": "21afbf80",
   "metadata": {},
   "source": []
  },
  {
   "cell_type": "markdown",
   "id": "8d8926a9",
   "metadata": {},
   "source": [
    "**ATTENTION** following will be **two options** *<u>LSTM + Optuna (to get best params)</u>* and *<u>Manual LSTM settings</u>*. If you run Optuna it will take some times to get best params, so with the following I already run it and got best params that has been used."
   ]
  },
  {
   "cell_type": "markdown",
   "id": "0a054759",
   "metadata": {},
   "source": []
  },
  {
   "cell_type": "markdown",
   "id": "b8e2cc3e",
   "metadata": {},
   "source": [
    "## <u> UDF (User-Defined Function) will be used to plot Loss and print Error"
   ]
  },
  {
   "cell_type": "markdown",
   "id": "e6833e84",
   "metadata": {},
   "source": [
    "**Train and validation history**"
   ]
  },
  {
   "cell_type": "code",
   "execution_count": 19,
   "id": "f07f2c38",
   "metadata": {},
   "outputs": [],
   "source": [
    "def plot_training_history(history):\n",
    "    \"\"\"\n",
    "    Funzione per tracciare la storia del training del modello Keras.\n",
    "\n",
    "    Parametri:\n",
    "        history: Oggetto History ritornato dalla funzione model.fit() di Keras.\n",
    "\n",
    "    Output:\n",
    "        Mostra un grafico con la training loss e la validation loss.\n",
    "    \"\"\"\n",
    "    \n",
    "    # Estrai i dati della storia del training\n",
    "    train_loss = history.history['loss']\n",
    "    val_loss = history.history.get('val_loss', None)  # Potrebbe non esserci una validation loss\n",
    "    epochs_range = range(1, len(train_loss) + 1)  # Le epoche partono da 1\n",
    "    \n",
    "    plt.figure(figsize=(12, 6))\n",
    "    \n",
    "    # --- Grafico della Training Loss\n",
    "    plt.subplot(1, 2, 1)\n",
    "    plt.plot(epochs_range, train_loss, label='Training Loss')\n",
    "    plt.xlabel('Epochs')\n",
    "    plt.ylabel('Loss')\n",
    "    plt.legend()\n",
    "    plt.title('Training Loss')\n",
    "    \n",
    "    # --- Grafico della Training e Validation Loss\n",
    "    plt.subplot(1, 2, 2)\n",
    "    plt.plot(epochs_range, train_loss, label='Training Loss')\n",
    "    \n",
    "    if val_loss is not None:\n",
    "        plt.plot(epochs_range, val_loss, label='Validation Loss')\n",
    "    \n",
    "    plt.xlabel('Epochs')\n",
    "    plt.ylabel('Loss')\n",
    "    plt.legend()\n",
    "    plt.title('Training and Validation Loss')\n",
    "    \n",
    "    plt.tight_layout()\n",
    "    plt.show()"
   ]
  },
  {
   "cell_type": "markdown",
   "id": "050c1f8d",
   "metadata": {},
   "source": [
    "**Error**"
   ]
  },
  {
   "cell_type": "code",
   "execution_count": 20,
   "id": "a041228b",
   "metadata": {},
   "outputs": [],
   "source": [
    "def evaluate_model(model, history, X_valid, y_valid, scaler):\n",
    "    # Valutation loss\n",
    "    print('Valutation loss')\n",
    "    test_loss = model.evaluate(X_valid, y_valid)\n",
    "    print(f'Test Loss: {test_loss}')\n",
    "\n",
    "    # Use history to get the final training and validation loss\n",
    "    print(f\"Final training loss: {history.history['loss'][-1]}\")\n",
    "    print(f\"Final validation loss: {history.history['val_loss'][-1]}\")\n",
    "\n",
    "    print('\\nError')\n",
    "    # Predictions on the validation set\n",
    "    predictions = model.predict(X_valid)\n",
    "\n",
    "    # Invert the scaling for predictions\n",
    "    inv_predictions = scaler.inverse_transform(predictions)\n",
    "\n",
    "    # Invert the scaling for actual values\n",
    "    inv_y_valid = scaler.inverse_transform(y_valid)\n",
    "\n",
    "    # Calculate metrics\n",
    "    mse = mean_squared_error(inv_y_valid, inv_predictions)\n",
    "    rmse = np.sqrt(mse)\n",
    "    mae = mean_absolute_error(inv_y_valid, inv_predictions)\n",
    "\n",
    "    print(f'Mean Squared Error (MSE): {mse}')\n",
    "    print(f'Root Mean Squared Error (RMSE): {rmse}')\n",
    "    print(f'Mean Absolute Error (MAE): {mae}')\n",
    "\n",
    "    return mse, rmse, mae, inv_predictions, inv_y_valid"
   ]
  },
  {
   "cell_type": "markdown",
   "id": "a1ebb536",
   "metadata": {},
   "source": [
    "<!--  -->"
   ]
  },
  {
   "cell_type": "markdown",
   "id": "3a2238ca",
   "metadata": {},
   "source": [
    "<!--  -->"
   ]
  },
  {
   "cell_type": "markdown",
   "id": "2d339e17",
   "metadata": {},
   "source": [
    "## Predicting EU and EEU countries "
   ]
  },
  {
   "cell_type": "markdown",
   "id": "8ecfa05a",
   "metadata": {},
   "source": [
    "### <u>1. Preprocessing</u>"
   ]
  },
  {
   "cell_type": "code",
   "execution_count": 7,
   "id": "dbc26bc5",
   "metadata": {},
   "outputs": [],
   "source": [
    "from sklearn.preprocessing import StandardScaler\n",
    "\n",
    "# ---- Make standardization all col\n",
    "df_sorted = df_knn.sort_values(by=['year', 'country'])\n",
    "df_values = df_sorted.drop(columns=['geo', 'country', 'year', 'ToTPop.'])\n",
    "\n",
    "data_matrix = df_values.values.reshape(len(df_all_replaced['year'].unique()), -1)\n",
    "scaler = StandardScaler()\n",
    "scaled_data = scaler.fit_transform(data_matrix)"
   ]
  },
  {
   "cell_type": "markdown",
   "id": "489a3ad2",
   "metadata": {},
   "source": [
    "### Train-Validation Split"
   ]
  },
  {
   "cell_type": "code",
   "execution_count": 12,
   "id": "a672aadf",
   "metadata": {},
   "outputs": [],
   "source": [
    "train = scaled_data[:]\n",
    "valid = scaled_data[4:]\n",
    "X_train, y_train = prepare_data(train, 5)\n",
    "X_valid, y_valid = prepare_data(valid, 5)"
   ]
  },
  {
   "cell_type": "code",
   "execution_count": 13,
   "id": "10fe1c4d",
   "metadata": {},
   "outputs": [
    {
     "data": {
      "text/plain": [
       "(5, 5, 300)"
      ]
     },
     "execution_count": 13,
     "metadata": {},
     "output_type": "execute_result"
    }
   ],
   "source": [
    "X_train.shape"
   ]
  },
  {
   "cell_type": "code",
   "execution_count": 14,
   "id": "8ea8faa5",
   "metadata": {},
   "outputs": [
    {
     "data": {
      "text/plain": [
       "(5, 300)"
      ]
     },
     "execution_count": 14,
     "metadata": {},
     "output_type": "execute_result"
    }
   ],
   "source": [
    "y_train.shape"
   ]
  },
  {
   "cell_type": "markdown",
   "id": "0b4e183c",
   "metadata": {},
   "source": [
    "### <u>2. LSTM Model + Optuna"
   ]
  },
  {
   "cell_type": "code",
   "execution_count": 15,
   "id": "4b2c9087",
   "metadata": {},
   "outputs": [],
   "source": [
    "import optuna\n",
    "import random\n",
    "import tensorflow as tf\n",
    "from tensorflow.keras.layers import Dropout\n",
    "from tensorflow.keras.optimizers import Adam\n",
    "from tensorflow.keras.models import Sequential\n",
    "from tensorflow.keras.layers import LSTM, Dense\n",
    "from tensorflow.keras.callbacks import EarlyStopping\n",
    "from keras.callbacks import ReduceLROnPlateau\n",
    "from tensorflow.keras.layers import BatchNormalization, GRU, LSTM, SimpleRNN\n",
    "from tensorflow.keras.initializers import GlorotNormal, HeNormal, GlorotUniform"
   ]
  },
  {
   "cell_type": "code",
   "execution_count": 1187,
   "id": "cb5f0253",
   "metadata": {},
   "outputs": [],
   "source": [
    "tf.keras.backend.clear_session()\n",
    "\n",
    "def objective(trial, X_train, y_train, X_valid, y_valid, n_steps=None, \n",
    "                                  n_input_units=None, epochs=None, weight_initializer=None): # seed=None\n",
    "    \n",
    "    #     # Hyp opt\n",
    "    n_layers = trial.suggest_int('n_layers', 1, 3)\n",
    "    n_units = trial.suggest_int('n_units', 50, 200)\n",
    "    dropout_rate = trial.suggest_float('dropout_rate', 0.1, 0.5)\n",
    "    learning_rate = trial.suggest_float('learning_rate', 1e-5, 1e-2, log=True)\n",
    "    batch_size = trial.suggest_categorical('batch_size', [16, 32])\n",
    "    activation_function = trial.suggest_categorical('activation_function', ['tanh', 'LeakyReLU', 'PReLU', 'softplus', 'elu']) # mish\n",
    "#   batch_size = trial.suggest_int('batch_size', 16, 128, log=True) # log scale to explore bigger range values, give enph to smaller val\n",
    "    \n",
    "    if weight_initializer == 'GlorotNormal':\n",
    "        initializer = GlorotNormal(seed=trial.number)\n",
    "    elif weight_initializer == 'HeNormal':\n",
    "        initializer = HeNormal(seed=trial.number)\n",
    "    else:\n",
    "        initializer = GlorotUniform(seed=trial.number) # Default\n",
    "\n",
    "    model = Sequential()\n",
    "\n",
    "    # Input Layer\n",
    "    model.add(LSTM(n_units, activation=activation_function, return_sequences=True, input_shape=(n_steps, n_input_units), kernel_initializer=initializer))\n",
    "    model.add(Dropout(dropout_rate))\n",
    "    model.add(BatchNormalization())\n",
    "\n",
    "    # Hidden Layers\n",
    "    for _ in range(n_layers - 1):  # Added n_layers - 1 additional LSTM layers\n",
    "        model.add(LSTM(n_units, activation=activation_function, return_sequences=True, kernel_initializer=initializer))\n",
    "        model.add(Dropout(dropout_rate))\n",
    "        model.add(BatchNormalization())\n",
    "\n",
    "    # Ultimo Layer LSTM (prima del layer Dense) con return_sequences impostato su False\n",
    "    model.add(LSTM(n_units, activation=activation_function, kernel_initializer=initializer))\n",
    "    model.add(Dropout(dropout_rate))\n",
    "    model.add(BatchNormalization())\n",
    "\n",
    "    # Output Layer\n",
    "    model.add(Dense(n_input_units))\n",
    "\n",
    "    # Compile model\n",
    "    optimizer = Adam(learning_rate=learning_rate)\n",
    "    model.compile(optimizer=optimizer, loss='mse')\n",
    "\n",
    "    early_stop = EarlyStopping(monitor='val_loss', patience=5, restore_best_weights=True)\n",
    "    reduce_lr = ReduceLROnPlateau(monitor='val_loss', factor=0.2, patience=5, min_lr=0.0001)\n",
    "\n",
    "    # Fit the model\n",
    "    history = model.fit(X_train, y_train, epochs=epochs, batch_size=batch_size, \n",
    "                        validation_data=(X_valid, y_valid), callbacks=[early_stop, reduce_lr])\n",
    "\n",
    "    # Get the minimum validation loss\n",
    "    val_loss = min(history.history['val_loss'])\n",
    "\n",
    "    return val_loss"
   ]
  },
  {
   "cell_type": "code",
   "execution_count": 16,
   "id": "326a99aa",
   "metadata": {},
   "outputs": [],
   "source": [
    "study = optuna.create_study(direction='minimize')\n",
    "study.optimize(lambda trial: objective(trial, X_train, y_train, X_valid, y_valid, 5,\n",
    "                                       X_train.shape[2], 150, weight_initializer=None), n_trials=150) # seed=trial.number"
   ]
  },
  {
   "cell_type": "code",
   "execution_count": 512,
   "id": "272e74c2",
   "metadata": {},
   "outputs": [],
   "source": [
    "def print_study_results(studies):\n",
    "    \"\"\"\n",
    "    This feature accepts a list of Optuna studies and prints the results of the best trial for each of them.\n",
    "    \"\"\"\n",
    "    for idx, study in enumerate(studies, 1):\n",
    "        print(f\"--- Study {idx} ---\")\n",
    "        print('Number of finished trials: ', len(study.trials), '(it is also seed number)')\n",
    "        print('Best trial:')\n",
    "        trial = study.best_trial\n",
    "        print('Value: ', trial.value)\n",
    "        print('Params: ', trial.params)\n",
    "        print('Seed: ', trial.number)\n",
    "        print('---' * 10)  # to separate studies with lines"
   ]
  },
  {
   "cell_type": "code",
   "execution_count": 513,
   "id": "c5a804c0",
   "metadata": {
    "scrolled": true
   },
   "outputs": [
    {
     "name": "stdout",
     "output_type": "stream",
     "text": [
      "--- Study 1 ---\n",
      "Number of finished trials:  150 (it is also seed number)\n",
      "Best trial:\n",
      "Value:  0.03339410945773125\n",
      "Params:  {'n_layers': 1, 'n_units': 62, 'dropout_rate': 0.27767537586361435, 'learning_rate': 0.0022584377651873972, 'batch_size': 32, 'activation_function': 'elu'}\n",
      "Seed:  21\n",
      "------------------------------\n"
     ]
    }
   ],
   "source": [
    "# Utilizzo della funzione:\n",
    "studies = [study]\n",
    "print_study_results(studies)"
   ]
  },
  {
   "cell_type": "code",
   "execution_count": 380,
   "id": "3210ebce",
   "metadata": {},
   "outputs": [],
   "source": [
    "# Best params found by Optuna\n",
    "best_params_whole = study.best_params"
   ]
  },
  {
   "cell_type": "markdown",
   "id": "4c2c4726",
   "metadata": {},
   "source": [
    "### <U>LSTM manual passing best params found by Optuna</u>\n",
    "You can directly pass the best parameters found by Optuna, but this approach allows for manual adjustments if needed."
   ]
  },
  {
   "cell_type": "code",
   "execution_count": 17,
   "id": "0a27f897",
   "metadata": {},
   "outputs": [],
   "source": [
    "def create_and_train_model_manual(algo=None, X_train=None, y_train=None, X_valid=None, y_valid=None, \n",
    "                                  n_steps=None, n_layers=None, n_units_2=None,\n",
    "                                  n_units=None, dropout_rate=None, \n",
    "                                  learning_rate=None, batch_size=None, n_input_units=None, \n",
    "                                  epochs=None, activation_function=None,\n",
    "                                  weight_initializer='GlorotUniform', seed=None):\n",
    "    \n",
    "    print('Model used', algo)\n",
    "    \n",
    "    if weight_initializer == 'GlorotNormal':\n",
    "        initializer = GlorotNormal()\n",
    "    elif weight_initializer == 'HeNormal':\n",
    "        initializer = HeNormal()\n",
    "    else:\n",
    "        initializer = GlorotUniform()  # Default initializer\n",
    "\n",
    "    model = Sequential()\n",
    "\n",
    "    # Input Layer\n",
    "    model.add(algo(n_units_2, return_sequences=True, activation=activation_function, input_shape=(n_steps, n_input_units), kernel_initializer=initializer))\n",
    "    model.add(Dropout(dropout_rate))\n",
    "#     model.add(BatchNormalization())\n",
    "\n",
    "    # Hidden Layers\n",
    "#     for _ in range(n_layers - 1):  # Aggiungiamo n_layers - 1 layer LSTM aggiuntivi\n",
    "#         model.add(algo(n_units, activation=activation_function, return_sequences=True, kernel_initializer=initializer))\n",
    "#         model.add(Dropout(dropout_rate))\n",
    "#         model.add(BatchNormalization())\n",
    "\n",
    "    # Second layer\n",
    "    model.add(algo(n_units, activation=activation_function, kernel_initializer=initializer))\n",
    "    model.add(Dropout(dropout_rate))\n",
    "#     model.add(BatchNormalization())\n",
    "\n",
    "    # Output Layer\n",
    "    model.add(Dense(n_input_units))\n",
    "\n",
    "    # Compile model\n",
    "    optimizer = Adam(learning_rate=learning_rate)\n",
    "    model.compile(optimizer=optimizer, loss='mse')\n",
    "\n",
    "    early_stop = EarlyStopping(monitor='val_loss', patience=5, restore_best_weights=True)\n",
    "    reduce_lr = ReduceLROnPlateau(monitor='val_loss', factor=0.2, patience=5, min_lr=0.0001)\n",
    "    \n",
    "    history = model.fit(X_train, y_train, epochs=epochs, batch_size=batch_size,\n",
    "                        validation_data=(X_valid, y_valid), callbacks=[early_stop, reduce_lr], verbose=1)\n",
    "    \n",
    "    plot_training_history(history)\n",
    "    \n",
    "    return model, history"
   ]
  },
  {
   "cell_type": "code",
   "execution_count": 111,
   "id": "652bb93a",
   "metadata": {
    "scrolled": true
   },
   "outputs": [
    {
     "name": "stdout",
     "output_type": "stream",
     "text": [
      "Model used <class 'keras.src.layers.rnn.simple_rnn.SimpleRNN'>\n",
      "Epoch 1/200\n"
     ]
    },
    {
     "name": "stderr",
     "output_type": "stream",
     "text": [
      "C:\\Users\\utente\\anaconda3\\Lib\\site-packages\\keras\\src\\initializers\\initializers.py:120: UserWarning: The initializer GlorotUniform is unseeded and being called multiple times, which will return identical values each time (even if the initializer is unseeded). Please update your code to provide a seed to the initializer, or avoid using the same initializer instance more than once.\n",
      "  warnings.warn(\n"
     ]
    },
    {
     "name": "stdout",
     "output_type": "stream",
     "text": [
      "1/1 [==============================] - 3s 3s/step - loss: 1.6779 - val_loss: 2.1425 - lr: 0.0023\n",
      "Epoch 2/200\n",
      "1/1 [==============================] - 0s 77ms/step - loss: 1.4414 - val_loss: 1.8372 - lr: 0.0023\n",
      "Epoch 3/200\n",
      "1/1 [==============================] - 0s 79ms/step - loss: 1.2084 - val_loss: 1.5252 - lr: 0.0023\n",
      "Epoch 4/200\n",
      "1/1 [==============================] - 0s 78ms/step - loss: 1.0630 - val_loss: 1.1988 - lr: 0.0023\n",
      "Epoch 5/200\n",
      "1/1 [==============================] - 0s 77ms/step - loss: 1.0449 - val_loss: 0.9283 - lr: 0.0023\n",
      "Epoch 6/200\n",
      "1/1 [==============================] - 0s 73ms/step - loss: 0.8638 - val_loss: 0.6931 - lr: 0.0023\n",
      "Epoch 7/200\n",
      "1/1 [==============================] - 0s 76ms/step - loss: 0.7482 - val_loss: 0.5069 - lr: 0.0023\n",
      "Epoch 8/200\n",
      "1/1 [==============================] - 0s 70ms/step - loss: 0.6115 - val_loss: 0.3664 - lr: 0.0023\n",
      "Epoch 9/200\n",
      "1/1 [==============================] - 0s 66ms/step - loss: 0.6136 - val_loss: 0.2689 - lr: 0.0023\n",
      "Epoch 10/200\n",
      "1/1 [==============================] - 0s 57ms/step - loss: 0.5141 - val_loss: 0.2063 - lr: 0.0023\n",
      "Epoch 11/200\n",
      "1/1 [==============================] - 0s 69ms/step - loss: 0.5011 - val_loss: 0.1686 - lr: 0.0023\n",
      "Epoch 12/200\n",
      "1/1 [==============================] - 0s 70ms/step - loss: 0.4496 - val_loss: 0.1477 - lr: 0.0023\n",
      "Epoch 13/200\n",
      "1/1 [==============================] - 0s 62ms/step - loss: 0.4357 - val_loss: 0.1357 - lr: 0.0023\n",
      "Epoch 14/200\n",
      "1/1 [==============================] - 0s 66ms/step - loss: 0.4370 - val_loss: 0.1302 - lr: 0.0023\n",
      "Epoch 15/200\n",
      "1/1 [==============================] - 0s 64ms/step - loss: 0.4037 - val_loss: 0.1328 - lr: 0.0023\n",
      "Epoch 16/200\n",
      "1/1 [==============================] - 0s 57ms/step - loss: 0.4099 - val_loss: 0.1372 - lr: 0.0023\n",
      "Epoch 17/200\n",
      "1/1 [==============================] - 0s 65ms/step - loss: 0.4272 - val_loss: 0.1352 - lr: 0.0023\n",
      "Epoch 18/200\n",
      "1/1 [==============================] - 0s 55ms/step - loss: 0.3784 - val_loss: 0.1337 - lr: 0.0023\n",
      "Epoch 19/200\n",
      "1/1 [==============================] - 0s 71ms/step - loss: 0.4124 - val_loss: 0.1333 - lr: 0.0023\n"
     ]
    },
    {
     "data": {
      "image/png": "[encoded data removed]",
      "text/plain": [
       "<Figure size 1200x600 with 2 Axes>"
      ]
     },
     "metadata": {},
     "output_type": "display_data"
    }
   ],
   "source": [
    "# resets the internal state of backend, freeing memory and preventing interference between consecutive models.\n",
    "tf.keras.backend.clear_session() \n",
    "\n",
    "# best params found by Optuna\n",
    "best_params = {'n_layers': 1, 'n_units': 62, 'dropout_rate': 0.27767537586361435, 'learning_rate': 0.0022584377651873972, 'batch_size': 32, 'activation_function': 'elu'}\n",
    "\n",
    "# setting params using previous udf\n",
    "model, history = create_and_train_model_manual(algo=SimpleRNN,\n",
    "                                                X_train=X_train, \n",
    "                                                y_train=y_train, \n",
    "                                                X_valid=X_valid, \n",
    "                                                y_valid=y_valid,\n",
    "                                                n_steps=5,\n",
    "                                                n_layers=best_params['n_layers'],\n",
    "                                                n_units_2= 300, # None,\n",
    "                                                n_units=240, # best_params['n_units'],\n",
    "                                                dropout_rate=best_params['dropout_rate'], \n",
    "                                                learning_rate=best_params['learning_rate'],\n",
    "                                                batch_size=32, # best_params['batch_size'],\n",
    "                                                n_input_units=X_train.shape[2],\n",
    "                                                epochs=200,\n",
    "                                                activation_function= 'tanh', #'LeakyReLU'\n",
    "                                                weight_initializer='GlorotUniform', # 'HeNormal', 'GlorotNormal'\n",
    "                                                seed=np.random\n",
    "                                            )"
   ]
  },
  {
   "cell_type": "code",
   "execution_count": 99,
   "id": "76163d90",
   "metadata": {},
   "outputs": [
    {
     "data": {
      "text/plain": [
       "<keras.src.engine.sequential.Sequential at 0x271f7601910>"
      ]
     },
     "execution_count": 99,
     "metadata": {},
     "output_type": "execute_result"
    }
   ],
   "source": [
    "model"
   ]
  },
  {
   "cell_type": "markdown",
   "id": "7b33aabc",
   "metadata": {},
   "source": [
    "### Validation\n",
    "Please focus on the loss rather than the error. Although the values have been standardized, they still have inherently different magnitudes because of their original natures (percent vs. whole number), making error a potentially anomalous indicator."
   ]
  },
  {
   "cell_type": "code",
   "execution_count": 112,
   "id": "678b81e1",
   "metadata": {},
   "outputs": [
    {
     "name": "stdout",
     "output_type": "stream",
     "text": [
      "Valutation loss\n",
      "1/1 [==============================] - 0s 29ms/step - loss: 0.1302\n",
      "Test Loss: 0.13021479547023773\n",
      "Final training loss: 0.4124375283718109\n",
      "Final validation loss: 0.13326722383499146\n",
      "\n",
      "Error\n",
      "1/1 [==============================] - 0s 332ms/step\n",
      "Mean Squared Error (MSE): 3165099.368082107\n",
      "Root Mean Squared Error (RMSE): 1779.0726146175448\n",
      "Mean Absolute Error (MAE): 272.38355183951063\n"
     ]
    }
   ],
   "source": [
    "# Valutation loss\n",
    "print('Valutation loss')\n",
    "test_loss = model.evaluate(X_valid, y_valid)\n",
    "print(f'Test Loss: {test_loss}')\n",
    "\n",
    "# Use history to get the final training and validation loss\n",
    "print(f\"Final training loss: {history.history['loss'][-1]}\")\n",
    "print(f\"Final validation loss: {history.history['val_loss'][-1]}\")\n",
    "\n",
    "print('\\nError')\n",
    "# Invert the scaling for predictions\n",
    "predictions = model.predict(X_valid)\n",
    "inv_predictions = scaler.inverse_transform(predictions)\n",
    "\n",
    "# Invert the scaling for actual values\n",
    "inv_y_valid = scaler.inverse_transform(y_valid)\n",
    "\n",
    "# Calculate metrics\n",
    "mse = mean_squared_error(inv_y_valid, inv_predictions)\n",
    "rmse = np.sqrt(mse)\n",
    "mae = mean_absolute_error(inv_y_valid, inv_predictions)\n",
    "\n",
    "print(f'Mean Squared Error (MSE): {mse}')\n",
    "print(f'Root Mean Squared Error (RMSE): {rmse}')\n",
    "print(f'Mean Absolute Error (MAE): {mae}')"
   ]
  },
  {
   "cell_type": "markdown",
   "id": "48f8ace5",
   "metadata": {},
   "source": [
    "### Columns considered to predictions"
   ]
  },
  {
   "cell_type": "code",
   "execution_count": 113,
   "id": "492be4b8",
   "metadata": {},
   "outputs": [],
   "source": [
    "cols = ['PopDens', 'RealGDPGRChg(%)', 'GrDebtToGDP(%)',\n",
    "       'GovExpToGDP(%)', 'IntTdGoods', 'EmpDomCon', 'DepOnWorkP(%)',\n",
    "       'EduLev3(5-8)(%)', 'InduCostChg(%)', 'HICPChg(%)']"
   ]
  },
  {
   "cell_type": "markdown",
   "id": "b8de4042",
   "metadata": {},
   "source": [
    "### Modelling"
   ]
  },
  {
   "cell_type": "code",
   "execution_count": 114,
   "id": "7b4fd3ff",
   "metadata": {},
   "outputs": [],
   "source": [
    "countries = sorted(df_all_replaced['country'].unique())\n",
    "variables = cols  # These are your economic variables\n",
    "\n",
    "# Reshaping the data\n",
    "reshaped_actual = inv_y_valid.reshape(len(countries), len(variables))\n",
    "reshaped_predictions = inv_predictions.reshape(len(countries), len(variables))\n",
    "\n",
    "# Convert to DataFrame\n",
    "actual_df = pd.DataFrame(reshaped_actual, columns=variables, index=countries)\n",
    "predicted_df = pd.DataFrame(reshaped_predictions, columns=variables, index=countries)\n",
    "\n",
    "comparison_df = pd.concat([actual_df, predicted_df], axis=1, keys=['Actual', 'Predicted'])"
   ]
  },
  {
   "cell_type": "code",
   "execution_count": 115,
   "id": "0b6f759e",
   "metadata": {
    "scrolled": true
   },
   "outputs": [],
   "source": [
    "# If're interested in seeing difference between actual and predicted values\n",
    "# difference_df = actual_df - predicted_df\n",
    "# difference_df"
   ]
  },
  {
   "cell_type": "markdown",
   "id": "5d509418",
   "metadata": {},
   "source": [
    "### <u>4. Predictions for 2023</u>"
   ]
  },
  {
   "cell_type": "code",
   "execution_count": 116,
   "id": "8f379abf",
   "metadata": {},
   "outputs": [],
   "source": [
    "def predict_future(model, last_data, n_steps, n_future, n_output_units=None):\n",
    "    future_preds = []\n",
    "    input_data = last_data[-n_steps:].tolist()\n",
    "    for _ in range(n_future):\n",
    "        # Reshape and predict\n",
    "        input_array = np.array(input_data[-n_steps:])\n",
    "        pred = model.predict(input_array.reshape(1, n_steps, n_output_units))\n",
    "        \n",
    "        # Append the prediction to future_preds and input_data\n",
    "        future_preds.append(pred)\n",
    "        input_data.append(pred[0])\n",
    "        \n",
    "    return np.array(future_preds)"
   ]
  },
  {
   "cell_type": "code",
   "execution_count": 117,
   "id": "7b20fd89",
   "metadata": {},
   "outputs": [
    {
     "name": "stdout",
     "output_type": "stream",
     "text": [
      "1/1 [==============================] - 0s 29ms/step\n",
      "1/1 [==============================] - 0s 45ms/step\n",
      "1/1 [==============================] - 0s 29ms/step\n"
     ]
    }
   ],
   "source": [
    "# Predict for 2023, 2024 and 2025\n",
    "n_steps = 5 # past periods considered\n",
    "n_future = 3 # number years predicted\n",
    "future_predictions = predict_future(model, scaled_data, n_steps, n_future, n_output_units=X_train.shape[2])"
   ]
  },
  {
   "cell_type": "code",
   "execution_count": 118,
   "id": "240a4156",
   "metadata": {},
   "outputs": [
    {
     "data": {
      "text/plain": [
       "3"
      ]
     },
     "execution_count": 118,
     "metadata": {},
     "output_type": "execute_result"
    }
   ],
   "source": [
    "len(future_predictions)"
   ]
  },
  {
   "cell_type": "code",
   "execution_count": 119,
   "id": "b425ed20",
   "metadata": {},
   "outputs": [],
   "source": [
    "reshaped_predictions = future_predictions.reshape(future_predictions.shape[0], -1)\n",
    "# Invert scaling\n",
    "unscaled_predictions = scaler.inverse_transform(reshaped_predictions)"
   ]
  },
  {
   "cell_type": "code",
   "execution_count": 120,
   "id": "7197524e",
   "metadata": {},
   "outputs": [
    {
     "data": {
      "text/plain": [
       "(3, 300)"
      ]
     },
     "execution_count": 120,
     "metadata": {},
     "output_type": "execute_result"
    }
   ],
   "source": [
    "unscaled_predictions.shape"
   ]
  },
  {
   "cell_type": "code",
   "execution_count": 121,
   "id": "d7370c4b",
   "metadata": {},
   "outputs": [],
   "source": [
    "def create_prediction_dataframe(future_predictions, countries, predictors):\n",
    "    \"\"\"\n",
    "    Args:\n",
    "    - future_predictions: Array of shape (3, 240) with predictions for 2023, 2024, 2025.\n",
    "    - countries: List of countries in Europe.\n",
    "    - predictors: List of economic predictors.\n",
    "\n",
    "    Returns:\n",
    "    - DataFrame with future predictions for each country in Europe.\n",
    "    \"\"\"\n",
    "    \n",
    "    data_list = []\n",
    "      \n",
    "    # Create an empty dataframe with the specified columns\n",
    "    columns = ['country', 'year'] + predictors\n",
    "    df = pd.DataFrame(columns=columns)\n",
    "    \n",
    "    # Years for which predictions are available\n",
    "    years = [2023, 2024, 2025]\n",
    "\n",
    "    # Populate the dataframe\n",
    "    for country_index, country in enumerate(countries):\n",
    "        for year_index, year in enumerate(years):\n",
    "            # Extract the prediction for that year for the specific country\n",
    "            start_idx = country_index * len(predictors)\n",
    "            end_idx = start_idx + len(predictors)\n",
    "            country_predictions = future_predictions[year_index, start_idx:end_idx]\n",
    "            \n",
    "            # Create a new row for the dataframe\n",
    "            data = {'country': country,\n",
    "                    'year': year}\n",
    "            \n",
    "            # Add economic predictor values\n",
    "            for j, predictor in enumerate(predictors):\n",
    "                data[predictor] = country_predictions[j]\n",
    "\n",
    "            # Append the data to the dataframe\n",
    "            data_list.append(data)\n",
    "\n",
    "    \n",
    "    df = pd.DataFrame(data_list)\n",
    "    \n",
    "    return df"
   ]
  },
  {
   "cell_type": "code",
   "execution_count": 122,
   "id": "a4f8f5d6",
   "metadata": {
    "scrolled": true
   },
   "outputs": [],
   "source": [
    "countries = df_all_replaced['country'].unique()  # Add all countries\n",
    "predictors= cols\n",
    "pred_df = create_prediction_dataframe(unscaled_predictions, countries, predictors)"
   ]
  },
  {
   "cell_type": "markdown",
   "id": "4a5d06f3",
   "metadata": {},
   "source": [
    "### Predictions"
   ]
  },
  {
   "cell_type": "code",
   "execution_count": 128,
   "id": "5b5d5ea4",
   "metadata": {
    "scrolled": false
   },
   "outputs": [
    {
     "data": {
      "text/html": [
       "<div>\n",
       "<style scoped>\n",
       "    .dataframe tbody tr th:only-of-type {\n",
       "        vertical-align: middle;\n",
       "    }\n",
       "\n",
       "    .dataframe tbody tr th {\n",
       "        vertical-align: top;\n",
       "    }\n",
       "\n",
       "    .dataframe thead th {\n",
       "        text-align: right;\n",
       "    }\n",
       "</style>\n",
       "<table border=\"1\" class=\"dataframe\">\n",
       "  <thead>\n",
       "    <tr style=\"text-align: right;\">\n",
       "      <th></th>\n",
       "      <th>country</th>\n",
       "      <th>year</th>\n",
       "      <th>RealGDPGRChg(%)</th>\n",
       "      <th>GrDebtToGDP(%)</th>\n",
       "      <th>GovExpToGDP(%)</th>\n",
       "      <th>DepOnWorkP(%)</th>\n",
       "      <th>EduLev3(5-8)(%)</th>\n",
       "      <th>InduCostChg(%)</th>\n",
       "      <th>HICPChg(%)</th>\n",
       "    </tr>\n",
       "  </thead>\n",
       "  <tbody>\n",
       "    <tr>\n",
       "      <th>0</th>\n",
       "      <td>Austria</td>\n",
       "      <td>2023</td>\n",
       "      <td>-0.764172</td>\n",
       "      <td>79.895218</td>\n",
       "      <td>52.829174</td>\n",
       "      <td>50.985382</td>\n",
       "      <td>19.274612</td>\n",
       "      <td>4.793575</td>\n",
       "      <td>7.585292</td>\n",
       "    </tr>\n",
       "    <tr>\n",
       "      <th>3</th>\n",
       "      <td>Belgium</td>\n",
       "      <td>2023</td>\n",
       "      <td>0.228506</td>\n",
       "      <td>108.660278</td>\n",
       "      <td>55.725830</td>\n",
       "      <td>56.456665</td>\n",
       "      <td>23.744654</td>\n",
       "      <td>1.876399</td>\n",
       "      <td>5.912247</td>\n",
       "    </tr>\n",
       "    <tr>\n",
       "      <th>6</th>\n",
       "      <td>Bulgaria</td>\n",
       "      <td>2023</td>\n",
       "      <td>3.090296</td>\n",
       "      <td>18.731880</td>\n",
       "      <td>41.637939</td>\n",
       "      <td>55.583626</td>\n",
       "      <td>20.640200</td>\n",
       "      <td>8.758749</td>\n",
       "      <td>13.137529</td>\n",
       "    </tr>\n",
       "    <tr>\n",
       "      <th>9</th>\n",
       "      <td>Croatia</td>\n",
       "      <td>2023</td>\n",
       "      <td>3.426502</td>\n",
       "      <td>77.666428</td>\n",
       "      <td>46.675835</td>\n",
       "      <td>53.851177</td>\n",
       "      <td>18.618786</td>\n",
       "      <td>6.784200</td>\n",
       "      <td>5.240807</td>\n",
       "    </tr>\n",
       "    <tr>\n",
       "      <th>12</th>\n",
       "      <td>Cyprus</td>\n",
       "      <td>2023</td>\n",
       "      <td>3.210842</td>\n",
       "      <td>92.728439</td>\n",
       "      <td>38.858131</td>\n",
       "      <td>45.867622</td>\n",
       "      <td>19.795208</td>\n",
       "      <td>4.381270</td>\n",
       "      <td>2.439365</td>\n",
       "    </tr>\n",
       "    <tr>\n",
       "      <th>15</th>\n",
       "      <td>Czechia</td>\n",
       "      <td>2023</td>\n",
       "      <td>1.869134</td>\n",
       "      <td>35.678391</td>\n",
       "      <td>45.210918</td>\n",
       "      <td>52.457497</td>\n",
       "      <td>12.329314</td>\n",
       "      <td>4.940374</td>\n",
       "      <td>11.455482</td>\n",
       "    </tr>\n",
       "    <tr>\n",
       "      <th>18</th>\n",
       "      <td>Denmark</td>\n",
       "      <td>2023</td>\n",
       "      <td>1.241852</td>\n",
       "      <td>32.787891</td>\n",
       "      <td>50.388672</td>\n",
       "      <td>57.046162</td>\n",
       "      <td>24.921438</td>\n",
       "      <td>1.978882</td>\n",
       "      <td>3.914456</td>\n",
       "    </tr>\n",
       "    <tr>\n",
       "      <th>21</th>\n",
       "      <td>Estonia</td>\n",
       "      <td>2023</td>\n",
       "      <td>2.546486</td>\n",
       "      <td>18.605547</td>\n",
       "      <td>38.582191</td>\n",
       "      <td>55.521267</td>\n",
       "      <td>16.647821</td>\n",
       "      <td>7.999469</td>\n",
       "      <td>9.401677</td>\n",
       "    </tr>\n",
       "    <tr>\n",
       "      <th>24</th>\n",
       "      <td>Finland</td>\n",
       "      <td>2023</td>\n",
       "      <td>-0.121912</td>\n",
       "      <td>69.895210</td>\n",
       "      <td>53.562504</td>\n",
       "      <td>61.461720</td>\n",
       "      <td>18.585989</td>\n",
       "      <td>1.538211</td>\n",
       "      <td>3.010310</td>\n",
       "    </tr>\n",
       "    <tr>\n",
       "      <th>27</th>\n",
       "      <td>France</td>\n",
       "      <td>2023</td>\n",
       "      <td>0.655108</td>\n",
       "      <td>103.532967</td>\n",
       "      <td>56.384991</td>\n",
       "      <td>61.338940</td>\n",
       "      <td>22.581020</td>\n",
       "      <td>1.310273</td>\n",
       "      <td>2.984105</td>\n",
       "    </tr>\n",
       "    <tr>\n",
       "      <th>30</th>\n",
       "      <td>Germany</td>\n",
       "      <td>2023</td>\n",
       "      <td>2.285026</td>\n",
       "      <td>66.601295</td>\n",
       "      <td>52.049126</td>\n",
       "      <td>52.823959</td>\n",
       "      <td>20.597727</td>\n",
       "      <td>3.917284</td>\n",
       "      <td>7.977532</td>\n",
       "    </tr>\n",
       "    <tr>\n",
       "      <th>33</th>\n",
       "      <td>Greece</td>\n",
       "      <td>2023</td>\n",
       "      <td>2.471422</td>\n",
       "      <td>185.548874</td>\n",
       "      <td>53.871166</td>\n",
       "      <td>56.169331</td>\n",
       "      <td>23.227762</td>\n",
       "      <td>-0.789768</td>\n",
       "      <td>1.567433</td>\n",
       "    </tr>\n",
       "    <tr>\n",
       "      <th>36</th>\n",
       "      <td>Hungary</td>\n",
       "      <td>2023</td>\n",
       "      <td>1.726758</td>\n",
       "      <td>73.016335</td>\n",
       "      <td>48.645126</td>\n",
       "      <td>52.453098</td>\n",
       "      <td>19.639149</td>\n",
       "      <td>8.122361</td>\n",
       "      <td>21.367130</td>\n",
       "    </tr>\n",
       "    <tr>\n",
       "      <th>39</th>\n",
       "      <td>Iceland</td>\n",
       "      <td>2023</td>\n",
       "      <td>1.006968</td>\n",
       "      <td>71.899834</td>\n",
       "      <td>44.664932</td>\n",
       "      <td>51.073826</td>\n",
       "      <td>27.925371</td>\n",
       "      <td>7.255078</td>\n",
       "      <td>3.469968</td>\n",
       "    </tr>\n",
       "    <tr>\n",
       "      <th>42</th>\n",
       "      <td>Ireland</td>\n",
       "      <td>2023</td>\n",
       "      <td>6.005569</td>\n",
       "      <td>22.265760</td>\n",
       "      <td>31.540234</td>\n",
       "      <td>52.997360</td>\n",
       "      <td>20.577579</td>\n",
       "      <td>1.226523</td>\n",
       "      <td>0.753907</td>\n",
       "    </tr>\n",
       "    <tr>\n",
       "      <th>45</th>\n",
       "      <td>Italy</td>\n",
       "      <td>2023</td>\n",
       "      <td>-2.765805</td>\n",
       "      <td>137.287445</td>\n",
       "      <td>52.893993</td>\n",
       "      <td>56.508484</td>\n",
       "      <td>40.630516</td>\n",
       "      <td>1.438688</td>\n",
       "      <td>5.072338</td>\n",
       "    </tr>\n",
       "    <tr>\n",
       "      <th>48</th>\n",
       "      <td>Latvia</td>\n",
       "      <td>2023</td>\n",
       "      <td>2.658551</td>\n",
       "      <td>40.334042</td>\n",
       "      <td>40.593246</td>\n",
       "      <td>57.519360</td>\n",
       "      <td>15.016786</td>\n",
       "      <td>7.738440</td>\n",
       "      <td>10.291793</td>\n",
       "    </tr>\n",
       "    <tr>\n",
       "      <th>51</th>\n",
       "      <td>Lithuania</td>\n",
       "      <td>2023</td>\n",
       "      <td>4.835023</td>\n",
       "      <td>35.439762</td>\n",
       "      <td>36.514343</td>\n",
       "      <td>54.551075</td>\n",
       "      <td>12.455346</td>\n",
       "      <td>11.391935</td>\n",
       "      <td>14.698969</td>\n",
       "    </tr>\n",
       "    <tr>\n",
       "      <th>54</th>\n",
       "      <td>Luxembourg</td>\n",
       "      <td>2023</td>\n",
       "      <td>3.391054</td>\n",
       "      <td>23.403803</td>\n",
       "      <td>41.898071</td>\n",
       "      <td>44.281513</td>\n",
       "      <td>23.655739</td>\n",
       "      <td>2.896230</td>\n",
       "      <td>5.409342</td>\n",
       "    </tr>\n",
       "    <tr>\n",
       "      <th>57</th>\n",
       "      <td>Malta</td>\n",
       "      <td>2023</td>\n",
       "      <td>4.830040</td>\n",
       "      <td>50.917633</td>\n",
       "      <td>40.079414</td>\n",
       "      <td>48.299843</td>\n",
       "      <td>38.610153</td>\n",
       "      <td>2.498497</td>\n",
       "      <td>8.909453</td>\n",
       "    </tr>\n",
       "    <tr>\n",
       "      <th>60</th>\n",
       "      <td>Netherlands</td>\n",
       "      <td>2023</td>\n",
       "      <td>0.904909</td>\n",
       "      <td>55.304722</td>\n",
       "      <td>43.634079</td>\n",
       "      <td>55.070950</td>\n",
       "      <td>24.584034</td>\n",
       "      <td>3.841574</td>\n",
       "      <td>5.061606</td>\n",
       "    </tr>\n",
       "    <tr>\n",
       "      <th>63</th>\n",
       "      <td>Norway</td>\n",
       "      <td>2023</td>\n",
       "      <td>1.562893</td>\n",
       "      <td>46.200245</td>\n",
       "      <td>45.328720</td>\n",
       "      <td>52.982601</td>\n",
       "      <td>24.395554</td>\n",
       "      <td>3.069048</td>\n",
       "      <td>3.400910</td>\n",
       "    </tr>\n",
       "    <tr>\n",
       "      <th>66</th>\n",
       "      <td>Poland</td>\n",
       "      <td>2023</td>\n",
       "      <td>0.964439</td>\n",
       "      <td>50.772514</td>\n",
       "      <td>42.206276</td>\n",
       "      <td>48.435429</td>\n",
       "      <td>13.959620</td>\n",
       "      <td>8.400677</td>\n",
       "      <td>14.879203</td>\n",
       "    </tr>\n",
       "    <tr>\n",
       "      <th>69</th>\n",
       "      <td>Portugal</td>\n",
       "      <td>2023</td>\n",
       "      <td>0.457589</td>\n",
       "      <td>117.379272</td>\n",
       "      <td>45.324867</td>\n",
       "      <td>56.503735</td>\n",
       "      <td>44.016399</td>\n",
       "      <td>1.941965</td>\n",
       "      <td>5.206205</td>\n",
       "    </tr>\n",
       "    <tr>\n",
       "      <th>72</th>\n",
       "      <td>Romania</td>\n",
       "      <td>2023</td>\n",
       "      <td>1.950992</td>\n",
       "      <td>44.227276</td>\n",
       "      <td>38.572472</td>\n",
       "      <td>50.108757</td>\n",
       "      <td>22.000105</td>\n",
       "      <td>9.822172</td>\n",
       "      <td>12.058396</td>\n",
       "    </tr>\n",
       "    <tr>\n",
       "      <th>75</th>\n",
       "      <td>Slovakia</td>\n",
       "      <td>2023</td>\n",
       "      <td>1.773184</td>\n",
       "      <td>52.816940</td>\n",
       "      <td>43.481640</td>\n",
       "      <td>49.354561</td>\n",
       "      <td>13.942836</td>\n",
       "      <td>5.683032</td>\n",
       "      <td>8.821255</td>\n",
       "    </tr>\n",
       "    <tr>\n",
       "      <th>78</th>\n",
       "      <td>Slovenia</td>\n",
       "      <td>2023</td>\n",
       "      <td>-0.334817</td>\n",
       "      <td>74.616219</td>\n",
       "      <td>43.346558</td>\n",
       "      <td>54.046997</td>\n",
       "      <td>15.054099</td>\n",
       "      <td>2.857813</td>\n",
       "      <td>8.045865</td>\n",
       "    </tr>\n",
       "    <tr>\n",
       "      <th>81</th>\n",
       "      <td>Spain</td>\n",
       "      <td>2023</td>\n",
       "      <td>1.051541</td>\n",
       "      <td>107.755302</td>\n",
       "      <td>43.144844</td>\n",
       "      <td>52.599331</td>\n",
       "      <td>39.417625</td>\n",
       "      <td>1.623313</td>\n",
       "      <td>3.201920</td>\n",
       "    </tr>\n",
       "    <tr>\n",
       "      <th>84</th>\n",
       "      <td>Sweden</td>\n",
       "      <td>2023</td>\n",
       "      <td>2.435893</td>\n",
       "      <td>40.083233</td>\n",
       "      <td>48.651325</td>\n",
       "      <td>59.787498</td>\n",
       "      <td>20.703926</td>\n",
       "      <td>1.765370</td>\n",
       "      <td>5.432965</td>\n",
       "    </tr>\n",
       "    <tr>\n",
       "      <th>87</th>\n",
       "      <td>Switzerland</td>\n",
       "      <td>2023</td>\n",
       "      <td>2.495960</td>\n",
       "      <td>42.853855</td>\n",
       "      <td>34.410248</td>\n",
       "      <td>49.352356</td>\n",
       "      <td>17.843840</td>\n",
       "      <td>0.840086</td>\n",
       "      <td>0.567617</td>\n",
       "    </tr>\n",
       "  </tbody>\n",
       "</table>\n",
       "</div>"
      ],
      "text/plain": [
       "        country  year  RealGDPGRChg(%)  GrDebtToGDP(%)  GovExpToGDP(%)  \\\n",
       "0       Austria  2023        -0.764172       79.895218       52.829174   \n",
       "3       Belgium  2023         0.228506      108.660278       55.725830   \n",
       "6      Bulgaria  2023         3.090296       18.731880       41.637939   \n",
       "9       Croatia  2023         3.426502       77.666428       46.675835   \n",
       "12       Cyprus  2023         3.210842       92.728439       38.858131   \n",
       "15      Czechia  2023         1.869134       35.678391       45.210918   \n",
       "18      Denmark  2023         1.241852       32.787891       50.388672   \n",
       "21      Estonia  2023         2.546486       18.605547       38.582191   \n",
       "24      Finland  2023        -0.121912       69.895210       53.562504   \n",
       "27       France  2023         0.655108      103.532967       56.384991   \n",
       "30      Germany  2023         2.285026       66.601295       52.049126   \n",
       "33       Greece  2023         2.471422      185.548874       53.871166   \n",
       "36      Hungary  2023         1.726758       73.016335       48.645126   \n",
       "39      Iceland  2023         1.006968       71.899834       44.664932   \n",
       "42      Ireland  2023         6.005569       22.265760       31.540234   \n",
       "45        Italy  2023        -2.765805      137.287445       52.893993   \n",
       "48       Latvia  2023         2.658551       40.334042       40.593246   \n",
       "51    Lithuania  2023         4.835023       35.439762       36.514343   \n",
       "54   Luxembourg  2023         3.391054       23.403803       41.898071   \n",
       "57        Malta  2023         4.830040       50.917633       40.079414   \n",
       "60  Netherlands  2023         0.904909       55.304722       43.634079   \n",
       "63       Norway  2023         1.562893       46.200245       45.328720   \n",
       "66       Poland  2023         0.964439       50.772514       42.206276   \n",
       "69     Portugal  2023         0.457589      117.379272       45.324867   \n",
       "72      Romania  2023         1.950992       44.227276       38.572472   \n",
       "75     Slovakia  2023         1.773184       52.816940       43.481640   \n",
       "78     Slovenia  2023        -0.334817       74.616219       43.346558   \n",
       "81        Spain  2023         1.051541      107.755302       43.144844   \n",
       "84       Sweden  2023         2.435893       40.083233       48.651325   \n",
       "87  Switzerland  2023         2.495960       42.853855       34.410248   \n",
       "\n",
       "    DepOnWorkP(%)  EduLev3(5-8)(%)  InduCostChg(%)  HICPChg(%)  \n",
       "0       50.985382        19.274612        4.793575    7.585292  \n",
       "3       56.456665        23.744654        1.876399    5.912247  \n",
       "6       55.583626        20.640200        8.758749   13.137529  \n",
       "9       53.851177        18.618786        6.784200    5.240807  \n",
       "12      45.867622        19.795208        4.381270    2.439365  \n",
       "15      52.457497        12.329314        4.940374   11.455482  \n",
       "18      57.046162        24.921438        1.978882    3.914456  \n",
       "21      55.521267        16.647821        7.999469    9.401677  \n",
       "24      61.461720        18.585989        1.538211    3.010310  \n",
       "27      61.338940        22.581020        1.310273    2.984105  \n",
       "30      52.823959        20.597727        3.917284    7.977532  \n",
       "33      56.169331        23.227762       -0.789768    1.567433  \n",
       "36      52.453098        19.639149        8.122361   21.367130  \n",
       "39      51.073826        27.925371        7.255078    3.469968  \n",
       "42      52.997360        20.577579        1.226523    0.753907  \n",
       "45      56.508484        40.630516        1.438688    5.072338  \n",
       "48      57.519360        15.016786        7.738440   10.291793  \n",
       "51      54.551075        12.455346       11.391935   14.698969  \n",
       "54      44.281513        23.655739        2.896230    5.409342  \n",
       "57      48.299843        38.610153        2.498497    8.909453  \n",
       "60      55.070950        24.584034        3.841574    5.061606  \n",
       "63      52.982601        24.395554        3.069048    3.400910  \n",
       "66      48.435429        13.959620        8.400677   14.879203  \n",
       "69      56.503735        44.016399        1.941965    5.206205  \n",
       "72      50.108757        22.000105        9.822172   12.058396  \n",
       "75      49.354561        13.942836        5.683032    8.821255  \n",
       "78      54.046997        15.054099        2.857813    8.045865  \n",
       "81      52.599331        39.417625        1.623313    3.201920  \n",
       "84      59.787498        20.703926        1.765370    5.432965  \n",
       "87      49.352356        17.843840        0.840086    0.567617  "
      ]
     },
     "execution_count": 128,
     "metadata": {},
     "output_type": "execute_result"
    }
   ],
   "source": [
    "pred_df[['country', 'year', 'RealGDPGRChg(%)', 'GrDebtToGDP(%)', 'GovExpToGDP(%)', 'DepOnWorkP(%)',\n",
    "         'EduLev3(5-8)(%)', 'InduCostChg(%)', 'HICPChg(%)']][::3]"
   ]
  },
  {
   "cell_type": "markdown",
   "id": "b70c5814",
   "metadata": {},
   "source": [
    "<!--  -->"
   ]
  },
  {
   "cell_type": "markdown",
   "id": "0f90640c",
   "metadata": {},
   "source": [
    "<u>Some Comparison with other sources:</u>\n",
    "\n",
    "**HICP(%)**\n",
    "- [Eurostat - Italy](https://economy-finance.ec.europa.eu/economic-surveillance-eu-economies/italy/economic-forecast-italy_en#:~:text=HICP%20inflation%20is%20projected%20to,2023%20and%202.9%25%20in%202024.)\n",
    "- [Eurostat - France](https://economy-finance.ec.europa.eu/economic-surveillance-eu-economies/france/economic-forecast-france_en#:~:text=Thus%2C%20headline%20inflation%20is%20expected,and%202.5%25%20in%202024)\n",
    "- [Eurostat - Czechia](https://economy-finance.ec.europa.eu/economic-surveillance-eu-economies/czechia/economic-forecast-czechia_en#:~:text=The%20annual%20average%20inflation%20rate,and%20related%20spill%2Dover%20effects.)\n",
    "- [Portuguese Public Finance Council - Portugal](https://www.cfp.pt/en/publications/economic-and-fiscal-outlook/economic-and-fiscal-outlook-2023-2027)\n",
    "\n",
    "**GrDebtToGDP(%)**\n",
    "- [FitchRatings - Italy](https://www.fitchratings.com/research/sovereigns/italy-significantly-loosens-its-fiscal-plans-11-10-2023)\n",
    "- [European Commision - Denmark](https://economy-finance.ec.europa.eu/system/files/2023-06/ip228_en.pdf)\n",
    "- [FitchRatings - Spain](https://www.fitchratings.com/research/sovereigns/fitch-affirms-spain-at-a-outlook-stable-26-05-2023)\n",
    "\n",
    "**GovExpToGDP(%)**\n",
    "- [Statista - Germany](https://fr.statista.com/outlook/co/macroeconomic-indicators/public-finance/germany#:~:text=The%20general%20government%20expenditure%20in,%E2%82%AC2.05tn%20by%202023.)\n",
    "- [Portuguese Public Finance Council - Portugal](https://www.cfp.pt/en/publications/economic-and-fiscal-outlook/economic-and-fiscal-outlook-2023-2027)\n",
    "- [Caixa Bank Research - Spain](https://www.caixabankresearch.com/en/economics-markets/public-sector/2023-2026-stability-programme-reduction-spains-budget-deficit)"
   ]
  },
  {
   "cell_type": "markdown",
   "id": "55fbc37e",
   "metadata": {},
   "source": [
    "<!--  -->"
   ]
  },
  {
   "cell_type": "markdown",
   "id": "511eeb8a",
   "metadata": {},
   "source": [
    "<!--  -->"
   ]
  },
  {
   "cell_type": "markdown",
   "id": "738e7e9a",
   "metadata": {},
   "source": [
    "***Thank you***\n",
    "\n",
    "***Filippo Maria Mariani***"
   ]
  }
 ],
 "metadata": {
  "kernelspec": {
   "display_name": "Python 3 (ipykernel)",
   "language": "python",
   "name": "python3"
  },
  "language_info": {
   "codemirror_mode": {
    "name": "ipython",
    "version": 3
   },
   "file_extension": ".py",
   "mimetype": "text/x-python",
   "name": "python",
   "nbconvert_exporter": "python",
   "pygments_lexer": "ipython3",
   "version": "3.11.4"
  }
 },
 "nbformat": 4,
 "nbformat_minor": 5
}
